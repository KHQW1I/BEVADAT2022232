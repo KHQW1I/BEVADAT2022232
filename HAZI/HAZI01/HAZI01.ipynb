{
 "cells": [
  {
   "cell_type": "code",
   "execution_count": 18,
   "metadata": {},
   "outputs": [],
   "source": [
    "#Készíts egy függvényt ami paraméterként egy listát vár és visszatér ennek a listának egy rész listájával.\n",
    "#Paraméterként lehessen megadni, hogy mettől-meddig akarjuk visszakapni a listát.\n",
    "#Egy példa a bemenetre: input_list=[1,2,3,4,5], start=1, end=4\n",
    "#Egy példa a kimenetre: [2,3,4]\n",
    "#NOTE: ha indexelünk és 4-et adunk meg felső határnak akkor csak a 3. indexig kapjuk vissza az értékeket a 4. már nem lesz benne\n",
    "#NOTE: és ez az elvárt viselkedés ebben a feladatban is\n",
    "#return type: list\n",
    "#függvény neve legyen: subset"
   ]
  },
  {
   "cell_type": "code",
   "execution_count": 19,
   "metadata": {},
   "outputs": [],
   "source": [
    "input_list=[1,2,3,4,5]\n",
    "input_start=1\n",
    "input_end=4\n",
    "\n",
    "def subset(list,start,end):\n",
    "    out_list = []\n",
    "    for x in range(start, end):\n",
    "        out_list.append(list[x])\n",
    "    return out_list"
   ]
  },
  {
   "cell_type": "code",
   "execution_count": 20,
   "metadata": {},
   "outputs": [],
   "source": [
    "#Készíts egy függvényt ami egy listát vár paraméterként és ennek a listának minden n-edik elemét adja vissza.\n",
    "#Paraméterként lehessen állítani azt hogy hanyadik elemeket szeretnénk viszakapni.\n",
    "#NOTE: a 0. elem is legyen benne\n",
    "#Egy példa a bemenetre: input_list=[1,2,3,4,5,6,7,8,9], n=3\n",
    "#Egy példa a kimenetre: [1,4,7]\n",
    "#return type: list\n",
    "#függvény neve legyen: every_nth"
   ]
  },
  {
   "cell_type": "code",
   "execution_count": 34,
   "metadata": {},
   "outputs": [
    {
     "ename": "NameError",
     "evalue": "name 'x' is not defined",
     "output_type": "error",
     "traceback": [
      "\u001b[1;31m---------------------------------------------------------------------------\u001b[0m",
      "\u001b[1;31mNameError\u001b[0m                                 Traceback (most recent call last)",
      "Cell \u001b[1;32mIn[34], line 11\u001b[0m\n\u001b[0;32m      8\u001b[0m             out_list\u001b[39m.\u001b[39mappend(x)\n\u001b[0;32m      9\u001b[0m     \u001b[39mreturn\u001b[39;00m out_list\n\u001b[1;32m---> 11\u001b[0m \u001b[39mprint\u001b[39m(every_nth(input_list, input_n))\n",
      "Cell \u001b[1;32mIn[34], line 7\u001b[0m, in \u001b[0;36mevery_nth\u001b[1;34m(list, n)\u001b[0m\n\u001b[0;32m      5\u001b[0m out_list \u001b[39m=\u001b[39m []\n\u001b[0;32m      6\u001b[0m \u001b[39mfor\u001b[39;00m index,item \u001b[39min\u001b[39;00m \u001b[39menumerate\u001b[39m(\u001b[39mlist\u001b[39m):\n\u001b[1;32m----> 7\u001b[0m     \u001b[39mif\u001b[39;00m x \u001b[39m%\u001b[39m n \u001b[39m==\u001b[39m \u001b[39m0\u001b[39m:\n\u001b[0;32m      8\u001b[0m         out_list\u001b[39m.\u001b[39mappend(x)\n\u001b[0;32m      9\u001b[0m \u001b[39mreturn\u001b[39;00m out_list\n",
      "\u001b[1;31mNameError\u001b[0m: name 'x' is not defined"
     ]
    }
   ],
   "source": [
    "input_list=[1,2,3,4,5,6,7,8,9]\n",
    "input_n=3\n",
    "\n",
    "def every_nth(list, n):\n",
    "    out_list = []\n",
    "    for index,item in enumerate(list):\n",
    "        if index % n == 0:\n",
    "            out_list.append(x)\n",
    "    return out_list\n",
    "\n",
    "print(every_nth(input_list, input_n))"
   ]
  },
  {
   "cell_type": "code",
   "execution_count": null,
   "metadata": {},
   "outputs": [],
   "source": [
    "#Készíts egy függvényt ami paraméterként egy listát vár és eldönti, hogy a listában csak egyedi értékek vannak-e\n",
    "#Egy bool-al térjen vissza: True:csak egyedi értékek vannak benne, False:van benne ismétlődés\n",
    "#Egy példa a bemenetre: [1,2,3,4,5,6,7]\n",
    "#Egy példa a kimenetre: True\n",
    "#return type: bool\n",
    "#függvény neve legyen: unique"
   ]
  },
  {
   "cell_type": "code",
   "execution_count": null,
   "metadata": {},
   "outputs": [],
   "source": []
  },
  {
   "cell_type": "code",
   "execution_count": null,
   "metadata": {},
   "outputs": [],
   "source": [
    "#Készíts egy függvényt ami paraméterként egy 2 dimenziós listát vár és ezt a listát kitudja \"lapítani\"\n",
    "#Egy olyan listával térjen vissza amelyben nincsen több kisebb lista, azaz egy egy dimenziós listával.\n",
    "#Egy példa a bemenetre: [[1,2],[3,4],[5,6]]\n",
    "#Egy példa a kimenetre: [1,2,3,4,5,6]\n",
    "#NOTE: csak 2 dimenziós listát kezeljen nem kell ennél mélyebbet\n",
    "#return type: list\n",
    "#függvény neve legyen: flatten"
   ]
  },
  {
   "cell_type": "code",
   "execution_count": null,
   "metadata": {},
   "outputs": [],
   "source": []
  },
  {
   "cell_type": "code",
   "execution_count": null,
   "metadata": {},
   "outputs": [],
   "source": [
    "#Készíts egy függvényt ami paraméterként n darab listát vár, és összfűzi ezeket a listákat.\n",
    "#Egy olya listával térjen vissza ami 1 dimenziós és tartalmazza az össze bemeneti lista kértékét\n",
    "#NOTE: sorrend nem számít\n",
    "#HINT: használj *args-ot az input paraméternél\n",
    "#Egy példa a bemenetre: lista_1 = [1,2,3], lista_2 = [4,5,6], ..... lista_n = [7,8,9]\n",
    "#Egy példa a kimenetre: [1,2,3,4,5,6,7,8,9]\n",
    "#return type: list\n",
    "#függvény neve legyen: merge_lists"
   ]
  },
  {
   "cell_type": "code",
   "execution_count": null,
   "metadata": {},
   "outputs": [],
   "source": []
  },
  {
   "cell_type": "code",
   "execution_count": null,
   "metadata": {},
   "outputs": [],
   "source": [
    "#Készíts egy függvényt ami paraméterként egy listát vár amiben 2 elemet tartalmazó tuple-ök vannak,\n",
    "#és visszatér ezeknek a tuple-nek a fordítottjával.\n",
    "#Egy példa a bemenetre: [(1,2),(3,4)]\n",
    "#Egy példa a kimenetre: [(2,1),(4,3)] \n",
    "#return type: list\n",
    "#függvény neve legyen: reverse_tuples"
   ]
  },
  {
   "cell_type": "code",
   "execution_count": null,
   "metadata": {},
   "outputs": [],
   "source": []
  },
  {
   "cell_type": "code",
   "execution_count": null,
   "metadata": {},
   "outputs": [],
   "source": [
    "#Készíts egy függvényt ami paraméterként egy listát vár, és eltávolítja az ismétlődéseket a listából.\n",
    "#Egy olyan listával térjen vissza amiben csak a bemeneti lista egyedi értékei vannak benne.\n",
    "#Egy példa a bemenetre: [1,2,3,3,4,5]\n",
    "#Egy példa a kimenetre: [1,2,3,4,5]\n",
    "#return type: list\n",
    "#függvény neve legyen: remove_duplicates"
   ]
  },
  {
   "cell_type": "code",
   "execution_count": null,
   "metadata": {},
   "outputs": [],
   "source": []
  },
  {
   "cell_type": "code",
   "execution_count": null,
   "metadata": {},
   "outputs": [],
   "source": [
    "#Készíts egy olyan függvényt ami paraméterként egy 2 dimenziós mátrixot vár és visszater a mátrix transzponáltjával.\n",
    "#Egy példa a bemenetre: [[1,2,3],\n",
    "#                        [4,5,6],\n",
    "#                        [7,8,9]]\n",
    "#\n",
    "#Egy példa a kimenetre: [[1,4,7],\n",
    "#                        [2,5,8],\n",
    "#                        [3,6,9]]\n",
    "#return type: list\n",
    "#függvény neve legyen: transpose"
   ]
  },
  {
   "cell_type": "code",
   "execution_count": null,
   "metadata": {},
   "outputs": [],
   "source": []
  },
  {
   "cell_type": "code",
   "execution_count": null,
   "metadata": {},
   "outputs": [],
   "source": [
    "#Készíts egy függvényt ami paraméterként egy listát vár és visszatér a lista csoportosított változatával.\n",
    "#Egy olyan listával térjen vissza amiben a paraméterként átadott chunk_size méretű listák vannak.\n",
    "#Egy példa a bemenetre: [1,2,3,4,5,6,7,8]\n",
    "#Egy példa a kimenetre: [[1,2,3],[4,5,6],[7,8]]\n",
    "#NOTE: ha nem mindegyik lista elemet lehet chunk_size méretű listába tenni akkor a maradékot a példában látott módon kezeljétek\n",
    "#return type: list\n",
    "#függvény neve legyen: split_into_chunks"
   ]
  },
  {
   "cell_type": "code",
   "execution_count": null,
   "metadata": {},
   "outputs": [],
   "source": []
  },
  {
   "cell_type": "code",
   "execution_count": null,
   "metadata": {},
   "outputs": [],
   "source": [
    "#Készíts egy függvényt ami paraméterként n darab dictionary-t vár és visszatér egy darab dictionary-vel.\n",
    "#Egy olyan dict-el térjen vissza miben az n darab bemeneti dict értékei benne vannak.\n",
    "#Egy példa a bemenetre: dict_1: {\"one\":1,\"two\":2}, dict_2: {\"four\":4,\"three\":3}\n",
    "#Egy példa a kimenetre: {\"one\":1,\"two\":2,\"four\":4,\"three\":3}\n",
    "#HINT: használj *args-ot\n",
    "#függvény neve legyen: merge_dicts"
   ]
  },
  {
   "cell_type": "code",
   "execution_count": null,
   "metadata": {},
   "outputs": [],
   "source": []
  },
  {
   "cell_type": "code",
   "execution_count": null,
   "metadata": {},
   "outputs": [],
   "source": [
    "#Készíts egy függvényt ami paraméterként egy listát vár amiben egész számok vannak és visszatér egy dict-el amiben szét vannak szedve paritás szerint.\n",
    "#Egy példa a bemenetre: [1,2,3,4,5,6]\n",
    "#Egy példa a kimenetre: {\"event\":[2,4,6],\"odd\":[1,3,5]}\n",
    "#return type: dict\n",
    "#függvény neve legyen: by_parity"
   ]
  },
  {
   "cell_type": "code",
   "execution_count": null,
   "metadata": {},
   "outputs": [],
   "source": []
  },
  {
   "cell_type": "code",
   "execution_count": null,
   "metadata": {},
   "outputs": [],
   "source": [
    "#Készíts egy függvényt ami paraméterként egy dict-et vár és visszatér egy dict-el amiben az egyes kulcsokhoz tartozó értékek átlaga van.\n",
    "#Egy példa a bemenetre:{\"some_key\":[1,2,3,4],\"another_key\":[1,2,3,4]}\n",
    "#Egy példa a kimenetre: {\"some_key\":2.5,\"another_key\":2.5}\n",
    "#return type: dict\n",
    "#függvény neve legyen: mean_key_value"
   ]
  },
  {
   "cell_type": "code",
   "execution_count": null,
   "metadata": {},
   "outputs": [],
   "source": []
  },
  {
   "cell_type": "code",
   "execution_count": null,
   "metadata": {},
   "outputs": [],
   "source": []
  }
 ],
 "metadata": {
  "kernelspec": {
   "display_name": "Python 3",
   "language": "python",
   "name": "python3"
  },
  "language_info": {
   "codemirror_mode": {
    "name": "ipython",
    "version": 3
   },
   "file_extension": ".py",
   "mimetype": "text/x-python",
   "name": "python",
   "nbconvert_exporter": "python",
   "pygments_lexer": "ipython3",
   "version": "3.11.2"
  },
  "orig_nbformat": 4
 },
 "nbformat": 4,
 "nbformat_minor": 2
}
