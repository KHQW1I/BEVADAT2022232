{
 "cells": [
  {
   "cell_type": "code",
   "execution_count": null,
   "metadata": {},
   "outputs": [],
   "source": [
    "#Készíts egy olyan függvényt ami paraméterként egy listát vár amiben egész számok vannak, \n",
    "#és el kell döntenie,hogy van-e benne páratlan szám. A visszatérésí érték egy bool legyen (True:van benne,False:nincs benne)\n",
    "#Egy példa a bemenetre: [1,2,3,4,4,5]\n",
    "#Egy példa a kimenetre: True\n",
    "#return type: bool\n",
    "#függvény neve legyen: contains_odd"
   ]
  },
  {
   "cell_type": "code",
   "execution_count": 23,
   "metadata": {},
   "outputs": [],
   "source": [
    "numbers = [1,2,3,4,4,5]\n",
    "\n",
    "\n",
    "def contains_odd(numbers):\n",
    "    for index in numbers:\n",
    "\n",
    "        if (index % 2 == 1):\n",
    "            return True\n",
    "    \n",
    "    return False"
   ]
  },
  {
   "cell_type": "code",
   "execution_count": null,
   "metadata": {},
   "outputs": [],
   "source": [
    "#Készíts egy függvényt ami paraméterként egy listát vár amiben egész számok vannak,\n",
    "#és eldönti minden eleméről, hogy páratlan-e. A kimenet egy lista legyen amiben True/False értékek vannak.\n",
    "#Egy példa a bemenetre: [1,2,3,4,5]\n",
    "#Egy példa a kimenetre: [True,False,True,False,True]\n",
    "#return type: list\n",
    "#függvény neve legyen: is_odd"
   ]
  },
  {
   "cell_type": "code",
   "execution_count": 24,
   "metadata": {},
   "outputs": [],
   "source": [
    "numbers = [1,2,3,4,5]\n",
    "\n",
    "def is_odd(numbers):\n",
    "    list = []\n",
    "    for index in numbers:\n",
    "        \n",
    "        if(index % 2 == 0):\n",
    "            list.append(False)\n",
    "        \n",
    "        else:\n",
    "            list.append(True)\n",
    "            \n",
    "    return list"
   ]
  },
  {
   "cell_type": "code",
   "execution_count": null,
   "metadata": {},
   "outputs": [],
   "source": [
    "#Készíts egy függvényt ami paraméterként 2 db listát vár, és kiszámolja a listák elemenként vett összegét.\n",
    "#A függvény egy listával térjen vissza amiben a megfelelő indexen lévő lista_1 és lista_2 elemek összege van.\n",
    "#Egy példa a bemenetekre: input_list_1:[1,2,3,4], input_list_2:[1,2,3,4]\n",
    "#Egy példa a kimenetre: [2,3,4,8]\n",
    "#return type: list\n",
    "#függvény neve legyen: element_wise_sum"
   ]
  },
  {
   "cell_type": "code",
   "execution_count": 27,
   "metadata": {},
   "outputs": [
    {
     "name": "stdout",
     "output_type": "stream",
     "text": [
      "[2, 4, 6, 8]\n"
     ]
    }
   ],
   "source": [
    "input_list_1=[1,2,3,4] \n",
    "input_list_2=[1,2,3,4]\n",
    "\n",
    "def element_wise_sum(list1,list2):\n",
    "    result = []\n",
    "    for index in range(len(list1)):\n",
    "        result.append(list1[index] + list2[index])\n",
    "    return result\n",
    "\n",
    "print(element_wise_sum(input_list_1,input_list_2))"
   ]
  },
  {
   "cell_type": "code",
   "execution_count": null,
   "metadata": {},
   "outputs": [],
   "source": [
    "#Készíts egy függvényt ami paraméterként egy dictionary-t vár és egy listával tér vissza\n",
    "#amiben a kulcs:érték párok egy Tuple-ben vannak.\n",
    "#Egy példa a bemenetere: {\"egy\":1,\"ketto\":2,\"harom\":3}\n",
    "#Egy példa a kimenetre: [(\"egy\",1),(\"ketto\",2),(\"harom\",3)]\n",
    "#return type: list\n",
    "#függvény nevel egyen: dict_to_list"
   ]
  },
  {
   "cell_type": "code",
   "execution_count": 26,
   "metadata": {},
   "outputs": [],
   "source": [
    "bemenet = {\"egy\":1,\"ketto\":2,\"harom\":3}\n",
    "\n",
    "def dict_to_list(input: dict):\n",
    "    result = []\n",
    "    for key, value in input.items():\n",
    "        result.append((key,value))\n",
    "    return result"
   ]
  }
 ],
 "metadata": {
  "kernelspec": {
   "display_name": "Python 3",
   "language": "python",
   "name": "python3"
  },
  "language_info": {
   "codemirror_mode": {
    "name": "ipython",
    "version": 3
   },
   "file_extension": ".py",
   "mimetype": "text/x-python",
   "name": "python",
   "nbconvert_exporter": "python",
   "pygments_lexer": "ipython3",
   "version": "3.11.2"
  },
  "orig_nbformat": 4,
  "vscode": {
   "interpreter": {
    "hash": "c347c8f9a7ef94e4c9e03b4513be7835ed18f45b99a2a817fb579f408b867b16"
   }
  }
 },
 "nbformat": 4,
 "nbformat_minor": 2
}
